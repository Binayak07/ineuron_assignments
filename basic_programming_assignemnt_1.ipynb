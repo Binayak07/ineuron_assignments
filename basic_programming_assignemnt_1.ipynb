{
  "nbformat": 4,
  "nbformat_minor": 0,
  "metadata": {
    "colab": {
      "name": "basic_programming_assignemnt_1.ipynb",
      "provenance": []
    },
    "kernelspec": {
      "name": "python3",
      "display_name": "Python 3"
    },
    "language_info": {
      "name": "python"
    }
  },
  "cells": [
    {
      "cell_type": "code",
      "metadata": {
        "colab": {
          "base_uri": "https://localhost:8080/"
        },
        "id": "7Mrrc64cj_XB",
        "outputId": "12219cd7-c643-4437-c99d-60b2926dd985"
      },
      "source": [
        "#1>\n",
        "print(\"Hello Python\")"
      ],
      "execution_count": 1,
      "outputs": [
        {
          "output_type": "stream",
          "text": [
            "Hello Python\n"
          ],
          "name": "stdout"
        }
      ]
    },
    {
      "cell_type": "code",
      "metadata": {
        "colab": {
          "base_uri": "https://localhost:8080/"
        },
        "id": "rOS0bNpfkWbQ",
        "outputId": "c3cb6961-bcc5-45bf-befa-7a2c582aba86"
      },
      "source": [
        "#2>\n",
        "a=10\n",
        "b=20\n",
        "sum = a+b\n",
        "quo=b/a\n",
        "print(\"sum is: \",sum,\" quotient is: \",quo)"
      ],
      "execution_count": 2,
      "outputs": [
        {
          "output_type": "stream",
          "text": [
            "sum is:  30  quotient is:  2.0\n"
          ],
          "name": "stdout"
        }
      ]
    },
    {
      "cell_type": "code",
      "metadata": {
        "colab": {
          "base_uri": "https://localhost:8080/"
        },
        "id": "WCClQzvbklSs",
        "outputId": "ebad91a7-bc68-4ba7-cef2-de34c10ff593"
      },
      "source": [
        "#3>\n",
        "base= int(input(\"Enter base of the triangle: \"))\n",
        "height= int(input(\"Enter height of the triangle: \"))\n",
        "area=0.5*base*height\n",
        "print(\"area of triangle is: \",area)\n"
      ],
      "execution_count": 3,
      "outputs": [
        {
          "output_type": "stream",
          "text": [
            "Enter base of the triangle: 12\n",
            "Enter height of the triangle: 11\n",
            "area of triangle is:  66.0\n"
          ],
          "name": "stdout"
        }
      ]
    },
    {
      "cell_type": "code",
      "metadata": {
        "colab": {
          "base_uri": "https://localhost:8080/"
        },
        "id": "hWSuJiaVk-Be",
        "outputId": "f597308a-7316-4d5d-f850-6324395fed08"
      },
      "source": [
        "#4>\n",
        "a=int(input(\"Enter data: \"))\n",
        "b=int(input(\"Enter data: \"))\n",
        "a,b=b,a\n",
        "print(a,b)"
      ],
      "execution_count": 4,
      "outputs": [
        {
          "output_type": "stream",
          "text": [
            "Enter data: 11\n",
            "Enter data: 12\n",
            "12 11\n"
          ],
          "name": "stdout"
        }
      ]
    },
    {
      "cell_type": "code",
      "metadata": {
        "colab": {
          "base_uri": "https://localhost:8080/"
        },
        "id": "LpsnJ-rFlMAK",
        "outputId": "ebd09d33-712d-4046-9f32-d7366ad05a0c"
      },
      "source": [
        "#5>\n",
        "import random\n",
        "randomNumber = random.random()*10\n",
        "int(round(randomNumber,0))"
      ],
      "execution_count": 19,
      "outputs": [
        {
          "output_type": "execute_result",
          "data": {
            "text/plain": [
              "3"
            ]
          },
          "metadata": {
            "tags": []
          },
          "execution_count": 19
        }
      ]
    },
    {
      "cell_type": "code",
      "metadata": {
        "id": "O_-7d-xnlUFs"
      },
      "source": [
        ""
      ],
      "execution_count": 16,
      "outputs": []
    }
  ]
}