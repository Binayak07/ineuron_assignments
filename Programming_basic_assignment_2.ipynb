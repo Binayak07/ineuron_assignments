{
  "nbformat": 4,
  "nbformat_minor": 0,
  "metadata": {
    "colab": {
      "name": "Programming_basic_assignment_2.ipynb",
      "provenance": [],
      "collapsed_sections": []
    },
    "kernelspec": {
      "name": "python3",
      "display_name": "Python 3"
    },
    "language_info": {
      "name": "python"
    }
  },
  "cells": [
    {
      "cell_type": "code",
      "metadata": {
        "colab": {
          "base_uri": "https://localhost:8080/"
        },
        "id": "4JzcDFYywnJS",
        "outputId": "1d692ab9-5754-4bb9-84b5-b70f0e13a204"
      },
      "source": [
        "#1 KM to Miles\n",
        "try:\n",
        "  km=int(input(\"Enter distance in KM \"))\n",
        "  miles = km*0.6\n",
        "  print(\"In miles: \"+str(round(miles,2))+' miles')\n",
        "except Exception as e:\n",
        "  print(e)"
      ],
      "execution_count": 11,
      "outputs": [
        {
          "output_type": "stream",
          "text": [
            "Enter distance in KM 123\n",
            "In miles: 73.8 miles\n"
          ],
          "name": "stdout"
        }
      ]
    },
    {
      "cell_type": "code",
      "metadata": {
        "colab": {
          "base_uri": "https://localhost:8080/"
        },
        "id": "ABFJ9_MFxUX1",
        "outputId": "4da8da95-07ad-4095-cb08-5450b1e3ac31"
      },
      "source": [
        "#2 Celsius to fahrenheit \n",
        "try:\n",
        "  c = int(input(\"Enter temperature in celsius: \"))\n",
        "  farhen = (c*9/5)+32\n",
        "  print(\"In farhenhiet: \"+str(round(farhen,2))+'F')\n",
        "except Exception as e:\n",
        "  print(e)"
      ],
      "execution_count": 10,
      "outputs": [
        {
          "output_type": "stream",
          "text": [
            "Enter temperature in celsius: 0\n",
            "In farhenhiet: 32.0F\n"
          ],
          "name": "stdout"
        }
      ]
    },
    {
      "cell_type": "code",
      "metadata": {
        "colab": {
          "base_uri": "https://localhost:8080/"
        },
        "id": "XbhWNLomyfad",
        "outputId": "4acfc477-160a-4be8-b704-037afb7f1923"
      },
      "source": [
        "#3 import calendar  \n",
        "try:\n",
        "  year = int(input(\"Enter year in number: \"))  \n",
        "  month = int(input(\"Enter month in number: \"))  \n",
        "  print(calendar.month(year,month))  \n",
        "except Exception as e:\n",
        "  print(e)"
      ],
      "execution_count": 15,
      "outputs": [
        {
          "output_type": "stream",
          "text": [
            "Enter year in number: 2021\n",
            "Enter month in number: 1\n",
            "    January 2021\n",
            "Mo Tu We Th Fr Sa Su\n",
            "             1  2  3\n",
            " 4  5  6  7  8  9 10\n",
            "11 12 13 14 15 16 17\n",
            "18 19 20 21 22 23 24\n",
            "25 26 27 28 29 30 31\n",
            "\n"
          ],
          "name": "stdout"
        }
      ]
    },
    {
      "cell_type": "code",
      "metadata": {
        "colab": {
          "base_uri": "https://localhost:8080/"
        },
        "id": "rH-R0E8yy9K1",
        "outputId": "975546fb-127f-4f47-d6ec-f7a0d722e8d8"
      },
      "source": [
        "#4 \n",
        "import math\n",
        "try:\n",
        "  a = int(input(\"enter a \"))\n",
        "  b = int(input(\"enter b \"))\n",
        "  c = int(input(\"enter c \"))\n",
        "  bsq4ac = (b**2)-(4*a*c)\n",
        "  roots = (-b+math.sqrt(bsq4ac))/2*a \n",
        "  print(\"Roots are: \",roots)\n",
        "except Exception as e:\n",
        "  print(e)"
      ],
      "execution_count": 17,
      "outputs": [
        {
          "output_type": "stream",
          "text": [
            "enter a 1\n",
            "enter b 6\n",
            "enter c 8\n",
            "Roots are:  -2.0\n"
          ],
          "name": "stdout"
        }
      ]
    },
    {
      "cell_type": "code",
      "metadata": {
        "colab": {
          "base_uri": "https://localhost:8080/"
        },
        "id": "c0PX9sGq0Xju",
        "outputId": "5b663887-bdb3-4833-c24d-6cca6089c698"
      },
      "source": [
        "#5\n",
        "var1 = input(\"enter first variable\")\n",
        "var2 = input(\"enter second variable\") \n",
        "print(\"Initial Values: \",var1,var2)\n",
        "var1,var2=var2,var1\n",
        "print(\"Final Values: \",var1,var2)"
      ],
      "execution_count": 18,
      "outputs": [
        {
          "output_type": "stream",
          "text": [
            "enter first variable12\n",
            "enter second variable11\n",
            "Initial Values:  12 11\n",
            "Final Values:  11 12\n"
          ],
          "name": "stdout"
        }
      ]
    },
    {
      "cell_type": "code",
      "metadata": {
        "id": "e3RdlYwL1LoQ"
      },
      "source": [
        ""
      ],
      "execution_count": null,
      "outputs": []
    }
  ]
}