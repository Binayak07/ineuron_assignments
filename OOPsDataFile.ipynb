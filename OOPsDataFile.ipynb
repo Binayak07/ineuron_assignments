{
 "cells": [
  {
   "cell_type": "code",
   "execution_count": 1,
   "id": "24bc87db",
   "metadata": {},
   "outputs": [],
   "source": [
    "import logging as logger\n",
    "class data:\n",
    "    def __init__(self, filename,filetype,filesize,date):\n",
    "        self.filename=filename\n",
    "        self.filetype=filetype\n",
    "        self.filesize=filesize\n",
    "        self.date=date\n",
    "        \n",
    "    def log(self,logtype,msg):\n",
    "        logger.basicConfig(filename=\"datalog.log\",level=logger.INFO,force=True,format='%(asctime)s %(message)s')\n",
    "        if logtype == \"INFO\":\n",
    "            logger.info(msg)\n",
    "        elif logtype == \"ERROR\":\n",
    "            logger.ERROR(msg)\n",
    "        elif logtype == \"CRITICAL\":\n",
    "            logger.CRITICAL(msg)\n",
    "        else:\n",
    "            logger.info(msg)\n",
    "        \n",
    "    def openFile(self):\n",
    "        try:\n",
    "            filename=self.filename+self.filetype\n",
    "            f=open(filename,'w+')\n",
    "            f.write(\"Hello, Lets learn OOPs in Python\")\n",
    "            f.close()\n",
    "            self.log('INFO','Write operation successful.')\n",
    "        except Exception as e:\n",
    "            self.log('ERROR','Writing operation failed.')\n",
    "        \n",
    "    def readFile(self):\n",
    "        try:\n",
    "            f=open(self.filename+self.filetype)\n",
    "            print(f.read())\n",
    "            f.close()\n",
    "            self.log('INFO','Read operation successful.')\n",
    "        except Exception as e:\n",
    "            self.log('ERROR','Read operation failed.')\n",
    "        \n",
    "    def appendFile(self):\n",
    "        try:\n",
    "            f=open(self.filename+self.filetype,'a')\n",
    "            f.write(\"Appending some extra content\")\n",
    "            f.close()\n",
    "            self.log('INFO','Append operation successful.')\n",
    "        except Exception as e:\n",
    "            self.log('ERROR','Append operation failed.')\n",
    "    \n",
    "    def __str__(self):\n",
    "        return \"This is a file operation class. You can open, append, read and write file(s).\""
   ]
  },
  {
   "cell_type": "code",
   "execution_count": null,
   "id": "256ae0f4",
   "metadata": {},
   "outputs": [],
   "source": [
    "sample = data('sample','.txt','1Mb','2021-08-20')\n",
    "sample.appendFile()\n",
    "sample.readFile()\n",
    "sample.openFile()"
   ]
  }
 ],
 "metadata": {
  "kernelspec": {
   "display_name": "Python 3",
   "language": "python",
   "name": "python3"
  },
  "language_info": {
   "codemirror_mode": {
    "name": "ipython",
    "version": 3
   },
   "file_extension": ".py",
   "mimetype": "text/x-python",
   "name": "python",
   "nbconvert_exporter": "python",
   "pygments_lexer": "ipython3",
   "version": "3.8.8"
  }
 },
 "nbformat": 4,
 "nbformat_minor": 5
}
