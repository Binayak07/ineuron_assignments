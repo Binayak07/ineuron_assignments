{
  "nbformat": 4,
  "nbformat_minor": 0,
  "metadata": {
    "colab": {
      "name": "assignment_3.ipynb",
      "provenance": [],
      "collapsed_sections": []
    },
    "kernelspec": {
      "name": "python3",
      "display_name": "Python 3"
    },
    "language_info": {
      "name": "python"
    }
  },
  "cells": [
    {
      "cell_type": "code",
      "metadata": {
        "id": "GzDEflFdPBn_"
      },
      "source": [
        "#1 Function helps in reusability and modularization of the code. It eventually helps in debugging. "
      ],
      "execution_count": 1,
      "outputs": []
    },
    {
      "cell_type": "code",
      "metadata": {
        "id": "rkaGGlA2PcFS"
      },
      "source": [
        "#2> A function run when it is called, and not when specified."
      ],
      "execution_count": 2,
      "outputs": []
    },
    {
      "cell_type": "code",
      "metadata": {
        "colab": {
          "base_uri": "https://localhost:8080/"
        },
        "id": "Bz3wqqqUPlaj",
        "outputId": "4e81e3ff-b4d1-4465-c7a9-b6ba896d8123"
      },
      "source": [
        "#3>\n",
        "\"\"\"\n",
        "'def' keyword is used to create a function.\n",
        "Example:\n",
        "\"\"\"\n",
        "def sayHello():\n",
        "  print(\"Hello User!\")\n",
        "  \n",
        "#calling the function\n",
        "sayHello()"
      ],
      "execution_count": 3,
      "outputs": [
        {
          "output_type": "stream",
          "text": [
            "Hello User!\n"
          ],
          "name": "stdout"
        }
      ]
    },
    {
      "cell_type": "code",
      "metadata": {
        "colab": {
          "base_uri": "https://localhost:8080/",
          "height": 52
        },
        "id": "i7y0-eyOP42C",
        "outputId": "c9842779-c171-4ced-b30b-61403782fb26"
      },
      "source": [
        "#4>\n",
        "\"\"\"\n",
        "A function means a block of code that runs collectively to perform a task.\n",
        "Whereas, a function call is a task to initiate a function with arguments (if required)\n",
        "\"\"\""
      ],
      "execution_count": 4,
      "outputs": [
        {
          "output_type": "execute_result",
          "data": {
            "application/vnd.google.colaboratory.intrinsic+json": {
              "type": "string"
            },
            "text/plain": [
              "'\\nA function means a block of code that runs collectively to perform a task.\\nWhereas, a function call is a task to initiate a function with arguments (if required)\\n'"
            ]
          },
          "metadata": {},
          "execution_count": 4
        }
      ]
    },
    {
      "cell_type": "code",
      "metadata": {
        "id": "y2jLgOqlQaqf"
      },
      "source": [
        "#5> 1 global scopes and many local scopes. "
      ],
      "execution_count": 5,
      "outputs": []
    },
    {
      "cell_type": "code",
      "metadata": {
        "id": "8fJMzfYcQvaC"
      },
      "source": [
        "#6> All the local variables in the memory are deleted once the function execution is finished or a function has returned."
      ],
      "execution_count": 6,
      "outputs": []
    },
    {
      "cell_type": "code",
      "metadata": {
        "colab": {
          "base_uri": "https://localhost:8080/"
        },
        "id": "OwV-BXtjRCwL",
        "outputId": "f555e2b5-1590-49e7-8bfd-b42b485c6a0c"
      },
      "source": [
        "#7> Returning value means to return a value from a function if required for further processing.\n",
        "#Example:\n",
        "\n",
        "def sum(*args):\n",
        "  s=0\n",
        "  for i in args:\n",
        "    s+=i\n",
        "  return s+45 #(returning an expression, YES it is possible.)\n",
        "\n",
        "sum(10,1,2,3,4,5,6,7,8,9)"
      ],
      "execution_count": 8,
      "outputs": [
        {
          "output_type": "execute_result",
          "data": {
            "text/plain": [
              "100"
            ]
          },
          "metadata": {},
          "execution_count": 8
        }
      ]
    },
    {
      "cell_type": "code",
      "metadata": {
        "colab": {
          "base_uri": "https://localhost:8080/"
        },
        "id": "2nnsyzCHRapo",
        "outputId": "a72a74b2-c97f-4d43-aa97-861915b196d9"
      },
      "source": [
        "# 8> Return type of a function that doesn't return anything is NoneType\n",
        "def justPrint():\n",
        "  print(\"Hey!\")\n",
        "\n",
        "type(justPrint())"
      ],
      "execution_count": 9,
      "outputs": [
        {
          "output_type": "stream",
          "text": [
            "Hey!\n"
          ],
          "name": "stdout"
        },
        {
          "output_type": "execute_result",
          "data": {
            "text/plain": [
              "NoneType"
            ]
          },
          "metadata": {},
          "execution_count": 9
        }
      ]
    },
    {
      "cell_type": "code",
      "metadata": {
        "colab": {
          "base_uri": "https://localhost:8080/"
        },
        "id": "I3apH-IdSehA",
        "outputId": "def444b0-6d3d-45b4-f0bc-3b139da1f2e4"
      },
      "source": [
        "#9> using global keyword\n",
        "pi=3.14\n",
        "def getArea(r):\n",
        "  global pi\n",
        "  return pi*(r**2)\n",
        "\n",
        "print(getArea(7))\n",
        "print(pi)"
      ],
      "execution_count": 12,
      "outputs": [
        {
          "output_type": "stream",
          "text": [
            "153.86\n",
            "3.14\n"
          ],
          "name": "stdout"
        }
      ]
    },
    {
      "cell_type": "code",
      "metadata": {
        "colab": {
          "base_uri": "https://localhost:8080/"
        },
        "id": "0QtK7F3pS4SJ",
        "outputId": "56648583-5efe-4213-ceda-265ad245aaf7"
      },
      "source": [
        "#10> Data type of None is NoneType\n",
        "type(None)"
      ],
      "execution_count": 13,
      "outputs": [
        {
          "output_type": "execute_result",
          "data": {
            "text/plain": [
              "NoneType"
            ]
          },
          "metadata": {},
          "execution_count": 13
        }
      ]
    },
    {
      "cell_type": "code",
      "metadata": {
        "colab": {
          "base_uri": "https://localhost:8080/",
          "height": 52
        },
        "id": "jqG6b7suTV6r",
        "outputId": "e970f1c5-7d17-4fad-ac43-b01b937cfae4"
      },
      "source": [
        "# 11>\n",
        "\"\"\"The statement - import areallyourpetsnamederic basically imports the areallyourpetsnamederic module \n",
        "and all the function defined in the package are now usable in the flie in which it is imported to.\"\"\""
      ],
      "execution_count": 14,
      "outputs": [
        {
          "output_type": "execute_result",
          "data": {
            "application/vnd.google.colaboratory.intrinsic+json": {
              "type": "string"
            },
            "text/plain": [
              "'The statement - import areallyourpetsnamederic basically imports the areallyourpetsnamederic module \\nand all the function defined in the package are now usable in the flie in which it is imported to.'"
            ]
          },
          "metadata": {},
          "execution_count": 14
        }
      ]
    },
    {
      "cell_type": "code",
      "metadata": {
        "colab": {
          "base_uri": "https://localhost:8080/",
          "height": 35
        },
        "id": "uEQR-NDwTyz3",
        "outputId": "1420cf17-b928-4a3a-ae18-ea54df8ca1a6"
      },
      "source": [
        "#12> \n",
        "\"\"\"\n",
        "import spam as sp\n",
        "sp.bacon()\n",
        "\"\"\""
      ],
      "execution_count": 15,
      "outputs": [
        {
          "output_type": "execute_result",
          "data": {
            "application/vnd.google.colaboratory.intrinsic+json": {
              "type": "string"
            },
            "text/plain": [
              "'\\nimport spam as sp\\nsp.bacon()\\n'"
            ]
          },
          "metadata": {},
          "execution_count": 15
        }
      ]
    },
    {
      "cell_type": "code",
      "metadata": {
        "colab": {
          "base_uri": "https://localhost:8080/"
        },
        "id": "paVBJr5uT7d7",
        "outputId": "e766df65-aedd-44f9-a1b0-dea34235276f"
      },
      "source": [
        "# 13> We can save a program from crashing if an error encountered, by handling the exception using the try except block.\n",
        "# Example\n",
        "\n",
        "try:\n",
        "  # risky code\n",
        "  pm=11/0\n",
        "except Exception as e:\n",
        "  # exception handled\n",
        "  print(\"Error occured: \",e)"
      ],
      "execution_count": 18,
      "outputs": [
        {
          "output_type": "stream",
          "text": [
            "Error occured:  division by zero\n"
          ],
          "name": "stdout"
        }
      ]
    },
    {
      "cell_type": "code",
      "metadata": {
        "colab": {
          "base_uri": "https://localhost:8080/",
          "height": 52
        },
        "id": "9o8wofOUUaJN",
        "outputId": "aec3b38d-02bf-4dbf-f49f-a46d2d9cd084"
      },
      "source": [
        "# 14>\n",
        "\"\"\"\n",
        "The purpose of try clause is to execute the code block that may encounter with exceptions which may lead to program crash.\n",
        "The purpose of catch clause is to handle such exceptions and notify/log the problem, it also saves from program crashing.\n",
        "\"\"\""
      ],
      "execution_count": 19,
      "outputs": [
        {
          "output_type": "execute_result",
          "data": {
            "application/vnd.google.colaboratory.intrinsic+json": {
              "type": "string"
            },
            "text/plain": [
              "'\\nThe purpose of try clause is to execute the code block that may encounter with exceptions which may lead to program crash.\\nThe purpose of catch clause is to handle such exceptions and notify/log the problem, it also saves from program crashing.\\n'"
            ]
          },
          "metadata": {},
          "execution_count": 19
        }
      ]
    },
    {
      "cell_type": "code",
      "metadata": {
        "id": "bscnHocXVA3H"
      },
      "source": [
        ""
      ],
      "execution_count": null,
      "outputs": []
    }
  ]
}