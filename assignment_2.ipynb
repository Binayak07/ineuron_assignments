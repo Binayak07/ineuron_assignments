{
 "cells": [
  {
   "cell_type": "markdown",
   "id": "3712de92",
   "metadata": {},
   "source": [
    "1> Two different values in a boolean data type are True and False. \n",
    "We can assign them as:\n",
    "\n",
    "trueValue = True     \n",
    "falseValue = False"
   ]
  },
  {
   "cell_type": "code",
   "execution_count": 2,
   "id": "bad2a7a2",
   "metadata": {},
   "outputs": [
    {
     "name": "stdout",
     "output_type": "stream",
     "text": [
      "False\n",
      "True\n",
      "False\n"
     ]
    }
   ],
   "source": [
    "#2> There are three types of boolean operators, namely and, or, not.\n",
    "# Examples:\n",
    "val1 = True\n",
    "val2 = False\n",
    "print(val1 and val2)\n",
    "print(val1 or val2)\n",
    "print(not val1)"
   ]
  },
  {
   "cell_type": "code",
   "execution_count": 11,
   "id": "a749f47d",
   "metadata": {},
   "outputs": [
    {
     "name": "stdout",
     "output_type": "stream",
     "text": [
      "***AND***\n",
      "True and False  => False\n",
      "False and True  => False\n",
      "False and False => False\n",
      "True and True   => True\n",
      "\n",
      "***OR***\n",
      "True or False   => True\n",
      "False and True  => True\n",
      "False and False => False\n",
      "True and True   => True\n",
      "\n",
      "***NOT***\n",
      "not False       => True\n",
      "not True        => False\n"
     ]
    }
   ],
   "source": [
    "#3> There are four different combinations:\n",
    "# For AND\n",
    "print(\"***AND***\")\n",
    "print(\"True and False  =>\",True and False)\n",
    "print(\"False and True  =>\",False and True)\n",
    "print(\"False and False =>\",False and False)\n",
    "print(\"True and True   =>\",True and True)\n",
    "print(\"\")\n",
    "# For OR\n",
    "print(\"***OR***\")\n",
    "print(\"True or False   =>\",True or False)\n",
    "print(\"False and True  =>\",False or True)\n",
    "print(\"False and False =>\",False or False)\n",
    "print(\"True and True   =>\",True or True)\n",
    "print(\"\")\n",
    "# For NOT\n",
    "print(\"***NOT***\")\n",
    "print(\"not False       =>\",not False)\n",
    "print(\"not True        =>\",not True)"
   ]
  },
  {
   "cell_type": "code",
   "execution_count": 12,
   "id": "41e0383d",
   "metadata": {},
   "outputs": [],
   "source": [
    "#4> Here are the outputs:\n",
    "# (5 > 4) and (3 == 5)   -> False\n",
    "# not (5 > 4)   -> False\n",
    "# (5 > 4) or (3 == 5)   -> True\n",
    "# not ((5 > 4) or (3 == 5))   -> False\n",
    "# (True and True) and (True == False)   -> False\n",
    "# (not False) or (not True)   -> True"
   ]
  },
  {
   "cell_type": "code",
   "execution_count": 13,
   "id": "4c236b3d",
   "metadata": {},
   "outputs": [
    {
     "name": "stdout",
     "output_type": "stream",
     "text": [
      "False\n",
      "True\n",
      "True\n",
      "False\n",
      "True\n",
      "False\n"
     ]
    }
   ],
   "source": [
    "# 5> six comparison operators are: >, <, ==, <=, >=, !=\n",
    "# Examples:\n",
    "x = 10\n",
    "y = 12\n",
    "z = 10\n",
    "print(x>y) # False\n",
    "print(y>z) # True\n",
    "print(x==z) # True\n",
    "print(z!=x) # False\n",
    "print(x>=5) # True\n",
    "print(y<=10) # False"
   ]
  },
  {
   "cell_type": "code",
   "execution_count": 16,
   "id": "59f29f7f",
   "metadata": {},
   "outputs": [
    {
     "name": "stdout",
     "output_type": "stream",
     "text": [
      "12 Hello World !\n",
      "True\n",
      "False\n"
     ]
    }
   ],
   "source": [
    "# 6>\n",
    "\"\"\"\n",
    "Equal to (==) is a comparison operator that returns true if two values are equal.\n",
    "Assignment operator (=) is used to assign a value to a variable or string.\n",
    "\"\"\"\n",
    "# Examples of assignment:\n",
    "x = 12\n",
    "st = \"Hello World !\"\n",
    "print(x,st)\n",
    "# Examples of equal to operator:\n",
    "print(x==12) # True\n",
    "print(st == \"hello World !\") # False, 'h' is in the lower case"
   ]
  },
  {
   "cell_type": "code",
   "execution_count": 17,
   "id": "0cf42dc1",
   "metadata": {},
   "outputs": [
    {
     "name": "stdout",
     "output_type": "stream",
     "text": [
      "ham\n",
      "spam\n",
      "spam\n"
     ]
    }
   ],
   "source": [
    "# 7> Three blocks are mentioned below..\n",
    "spam = 0 \n",
    "# block 1\n",
    "if spam == 10: \n",
    "    print('eggs') \n",
    "# block 2\n",
    "if spam > 5: \n",
    "    print('bacon') \n",
    "# block 3\n",
    "else: \n",
    "    print('ham') \n",
    "    print('spam') \n",
    "    print('spam') \n"
   ]
  },
  {
   "cell_type": "code",
   "execution_count": 18,
   "id": "ff8c4200",
   "metadata": {},
   "outputs": [
    {
     "name": "stdout",
     "output_type": "stream",
     "text": [
      "Howdy\n"
     ]
    }
   ],
   "source": [
    "# 8> Code:\n",
    "\n",
    "spam = 2\n",
    "\n",
    "if spam == 1:\n",
    "    print(\"Hello\")\n",
    "elif spam == 2:\n",
    "    print(\"Howdy\")\n",
    "else:\n",
    "    print(\"Greetings!\")"
   ]
  },
  {
   "cell_type": "markdown",
   "id": "c854ff90",
   "metadata": {},
   "source": [
    " *9>* If program gets stuck in an endless loop, we can press `Ctrl+C`."
   ]
  },
  {
   "cell_type": "code",
   "execution_count": 35,
   "id": "1013512b",
   "metadata": {},
   "outputs": [
    {
     "name": "stdout",
     "output_type": "stream",
     "text": [
      "Your speed is  10\n",
      "Your speed is  20\n",
      "Your speed is  30\n",
      "Your speed is  40\n",
      "Your speed is  50\n",
      "Your speed is  60\n",
      "Your speed is  70\n",
      "Ok, Stop!\n",
      "It is odd:  1\n",
      "It is odd:  3\n"
     ]
    }
   ],
   "source": [
    "# 10> Difference between break and continue:\n",
    "\"\"\"\n",
    "Break statement will end the entire loop, it will not even go to else block.\n",
    "Continue statement will not interrupt the flow of the execution  BUT the lines written below the continue statement will not execute.\n",
    "\"\"\"\n",
    "# Example for break statement:\n",
    "\n",
    "for speed in range(1,10):\n",
    "    if speed>7:\n",
    "        print(\"Ok, Stop!\")\n",
    "        break;\n",
    "    else:\n",
    "        print(\"Your speed is \",speed*10)\n",
    "\n",
    "# Example for continue statement\n",
    "\n",
    "for i in range(5):\n",
    "    if(i%2==0):\n",
    "        continue\n",
    "        print(\"Even won't get printed ever.\",i)\n",
    "    else:\n",
    "        print(\"It is odd: \",i)\n"
   ]
  },
  {
   "cell_type": "code",
   "execution_count": 7,
   "id": "bf0e8e6f",
   "metadata": {},
   "outputs": [
    {
     "name": "stdout",
     "output_type": "stream",
     "text": [
      "0\n",
      "1\n",
      "2\n",
      "3\n",
      "4\n",
      "5\n",
      "6\n",
      "7\n",
      "8\n",
      "9\n",
      "-------\n",
      "0\n",
      "1\n",
      "2\n",
      "3\n",
      "4\n",
      "5\n",
      "6\n",
      "7\n",
      "8\n",
      "9\n",
      "-----\n",
      "0\n",
      "1\n",
      "2\n",
      "3\n",
      "4\n",
      "5\n",
      "6\n",
      "7\n",
      "8\n",
      "9\n"
     ]
    }
   ],
   "source": [
    "#11>\n",
    "\"\"\"\n",
    "There is no difference. range(starting point, end point, step), here starting point by default is 0 and step is also 1 by default. \n",
    "In all the three cases, on printing, we get the same output.\n",
    "\"\"\"\n",
    "# case 1\n",
    "for i in range(10):\n",
    "    print(i)\n",
    "print(\"-------\")\n",
    "# case 2\n",
    "for i in range(0,10):\n",
    "    print(i)\n",
    "print(\"-----\")\n",
    "# case 3\n",
    "for i in range(0,10,1):\n",
    "    print(i)"
   ]
  },
  {
   "cell_type": "code",
   "execution_count": 13,
   "id": "4d0207db",
   "metadata": {},
   "outputs": [
    {
     "name": "stdout",
     "output_type": "stream",
     "text": [
      "0\n",
      "1\n",
      "2\n",
      "3\n",
      "4\n",
      "5\n",
      "6\n",
      "7\n",
      "8\n",
      "9\n",
      "1\n",
      "2\n",
      "3\n",
      "4\n",
      "5\n",
      "6\n",
      "7\n",
      "8\n",
      "9\n"
     ]
    }
   ],
   "source": [
    "#12>\n",
    "#using for loop\n",
    "num = 10\n",
    "for i in range(num):\n",
    "    print(i)\n",
    "    \n",
    "#using while loop\n",
    "num =10\n",
    "i=1\n",
    "while i < num:\n",
    "    print(i)\n",
    "    i+=1"
   ]
  },
  {
   "cell_type": "code",
   "execution_count": null,
   "id": "234437b8",
   "metadata": {},
   "outputs": [],
   "source": [
    "#13>\n",
    "#import spam\n",
    "#spam.bacon()"
   ]
  }
 ],
 "metadata": {
  "kernelspec": {
   "display_name": "Python 3",
   "language": "python",
   "name": "python3"
  },
  "language_info": {
   "codemirror_mode": {
    "name": "ipython",
    "version": 3
   },
   "file_extension": ".py",
   "mimetype": "text/x-python",
   "name": "python",
   "nbconvert_exporter": "python",
   "pygments_lexer": "ipython3",
   "version": "3.8.8"
  }
 },
 "nbformat": 4,
 "nbformat_minor": 5
}
